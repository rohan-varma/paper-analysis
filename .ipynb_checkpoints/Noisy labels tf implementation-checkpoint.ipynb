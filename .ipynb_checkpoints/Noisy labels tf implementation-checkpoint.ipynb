{
 "cells": [
  {
   "cell_type": "code",
   "execution_count": 1,
   "metadata": {
    "collapsed": false
   },
   "outputs": [
    {
     "name": "stdout",
     "output_type": "stream",
     "text": [
      "Successfully downloaded train-images-idx3-ubyte.gz 9912422 bytes.\n",
      "Extracting MNIST_data/train-images-idx3-ubyte.gz\n",
      "Successfully downloaded train-labels-idx1-ubyte.gz 28881 bytes.\n",
      "Extracting MNIST_data/train-labels-idx1-ubyte.gz\n",
      "Successfully downloaded t10k-images-idx3-ubyte.gz 1648877 bytes.\n",
      "Extracting MNIST_data/t10k-images-idx3-ubyte.gz\n",
      "Successfully downloaded t10k-labels-idx1-ubyte.gz 4542 bytes.\n",
      "Extracting MNIST_data/t10k-labels-idx1-ubyte.gz\n"
     ]
    }
   ],
   "source": [
    "import tensorflow as tf\n",
    "import numpy as np\n",
    "import matplotlib.pyplot as plt\n",
    "from tensorflow.examples.tutorials.mnist import input_data\n",
    "minst = input_data.read_data_sets('MNIST_data', one_hot = True)\n"
   ]
  },
  {
   "cell_type": "code",
   "execution_count": 2,
   "metadata": {
    "collapsed": true
   },
   "outputs": [],
   "source": [
    "# define needed parameters\n",
    "log_path = \"tmp/tf_logs/noisy\"\n",
    "num_epochs = 2000\n",
    "minibatch_size = 50\n",
    "lr = 1e-4 # it's also a good idea to decay this\n",
    "\n"
   ]
  },
  {
   "cell_type": "code",
   "execution_count": 9,
   "metadata": {
    "collapsed": true
   },
   "outputs": [],
   "source": [
    "# input variables\n",
    "x = tf.placeholder(tf.float32, shape=[None, 784], name='x-input')\n",
    "y_ = tf.placeholder(tf.float32, shape=[None, 10],name='y-labels')\n",
    "dropout_prob = tf.placeholder(tf.float32, name = 'drop-prob')\n"
   ]
  },
  {
   "cell_type": "code",
   "execution_count": 7,
   "metadata": {
    "collapsed": true
   },
   "outputs": [],
   "source": [
    "def weight_variable(shape):\n",
    "    \"\"\"Initializes weights randomly from a normal distribution\n",
    "    Params: shape: list of dimensionality of the tensor to be initialized\n",
    "    \"\"\"\n",
    "    initial = tf.truncated_normal(shape, stddev=0.1)\n",
    "    return tf.Variable(initial)\n",
    "\n",
    "\n",
    "def bias_variable(shape):\n",
    "    \"\"\"Initializes the bias term randomly from a normal distribution.\n",
    "    Params: shape: list of dimensionality for the bias term.\n",
    "    \"\"\"\n",
    "    initial = tf.constant(0.1, shape=shape, name = 'Bias')\n",
    "    return tf.Variable(initial)"
   ]
  },
  {
   "cell_type": "code",
   "execution_count": 12,
   "metadata": {
    "collapsed": true
   },
   "outputs": [],
   "source": [
    "def conv2d(x, W):\n",
    "    \"\"\"Performs a convolution over a given patch x with some filter W.\n",
    "    Uses a stride of length 1 and SAME padding (padded with zeros at the edges)\n",
    "    Params:\n",
    "    x: tensor: the image to be convolved over\n",
    "    W: the kernel (tensor) with which to convolve.\n",
    "    \"\"\"\n",
    "    return tf.nn.conv2d(x, W, strides=[1, 1, 1, 1], padding='SAME')\n",
    "\n",
    "def max_pool_2x2(x):\n",
    "    \"\"\"Performs a max pooling operation over a 2 x 2 region\"\"\"\n",
    "    return tf.nn.max_pool(x, ksize=[1, 2, 2, 1],\n",
    "                        strides=[1, 2, 2, 1], padding='SAME')"
   ]
  },
  {
   "cell_type": "code",
   "execution_count": 13,
   "metadata": {
    "collapsed": true
   },
   "outputs": [],
   "source": [
    "x_image = tf.reshape(x, [-1,28,28,1], name = 'x-image-reshaped') # covert x to a 4-d tensor\n"
   ]
  },
  {
   "cell_type": "code",
   "execution_count": 18,
   "metadata": {
    "collapsed": false
   },
   "outputs": [],
   "source": [
    "# build the model\n",
    "with tf.name_scope('Model'):\n",
    "    W_conv1 = weight_variable([5,5,1,32])\n",
    "    b_conv1 = bias_variable([32])\n",
    "    with tf.name_scope('conv-mp-layer-1'):\n",
    "        h_conv1 = tf.nn.relu(conv2d(x_image, W_conv1) + b_conv1)\n",
    "        h_pool1 = max_pool_2x2(h_conv1)\n",
    "        \n",
    "    W_conv2 = weight_variable([5,5,32,64])\n",
    "    b_conv2 = bias_variable([64])\n",
    "    with tf.name_scope('conv-mp-layer-2'): \n",
    "        h_conv2 = tf.nn.relu(conv2d(h_pool1, W_conv2) + b_conv2)\n",
    "        h_pool2 = max_pool_2x2(h_conv2)\n",
    "        \n",
    "    # reshape h_pool2 for FC layers\n",
    "    h_pool2_flat = tf.reshape(h_pool2, [-1, 7 * 7 * 64])\n",
    "    \n",
    "    W_fc1 = weight_variable([7 * 7 * 64, 1024])\n",
    "    b_fc1 = bias_variable([1024])\n",
    "    with tf.name_scope('fc-layer-1'):\n",
    "        h_fc1 = tf.nn.relu(tf.matmul(h_pool2_flat, W_fc1) + b_fc1)\n",
    "        h_fc1_dropout = tf.nn.dropout(h_fc1, 1 - dropout_prob)\n",
    "    \n",
    "    # second fully connected layer\n",
    "    W_fc2 = weight_variable([1024, 256])\n",
    "    b_fc2 = bias_variable([256])\n",
    "    with tf.name_scope('fc-layer-2'):\n",
    "        h_fc2 = tf.nn.relu(tf.matmul(h_fc1_dropout, W_fc2) + b_fc2)\n",
    "        h_fc2_dropout = tf.nn.dropout(h_fc2, 1 - dropout_prob)\n",
    "        \n",
    "    \n",
    "    # softmax layer\n",
    "    W_fc3 = weight_variable([256, 10])\n",
    "    b_fc3 = bias_variable([10])\n",
    "    with tf.name_scope('softmax-layer'):\n",
    "        y_out = tf.nn.softmax(tf.matmul(h_fc2_dropout, W_fc3) + b_fc3)\n",
    "        \n",
    "        \n",
    "        \n",
    "    \n",
    "    \n",
    "    \n",
    "    "
   ]
  },
  {
   "cell_type": "code",
   "execution_count": 19,
   "metadata": {
    "collapsed": true
   },
   "outputs": [],
   "source": [
    "cross_ent = -tf.reduce_sum(y_ * tf.log(y_out))\n",
    "train_step = tf.train.AdamOptimizer(lr).minimize(cross_ent)\n",
    "correct_prediction = tf.equal(tf.argmax(y_out, axis = 1), tf.argmax(y_, axis = 1))\n",
    "acc = tf.reduce_mean(tf.cast(correct_prediction, tf.float32))\n",
    "\n"
   ]
  },
  {
   "cell_type": "code",
   "execution_count": 20,
   "metadata": {
    "collapsed": true
   },
   "outputs": [],
   "source": [
    "# bookkeeping\n",
    "tf.summary.scalar(\"loss\", cross_ent)\n",
    "tf.summary.scalar(\"accuracy\", acc)\n",
    "merged_summaries = tf.summary.merge_all()\n",
    "init = tf.global_variables_initializer()\n"
   ]
  },
  {
   "cell_type": "code",
   "execution_count": null,
   "metadata": {
    "collapsed": false
   },
   "outputs": [],
   "source": [
    "import sys\n",
    "# lauch the graph in a session\n",
    "with tf.Session() as sess:\n",
    "    # intialize variables and summary writer\n",
    "    sess.run(init)\n",
    "    summary_writer = tf.summary.FileWriter(log_path, graph = tf.get_default_graph())\n",
    "    mnist = minst # oops i misspelt\n",
    "    # training for many epochs\n",
    "    for i in range(num_epochs):\n",
    "        batch = mnist.train.next_batch(minibatch_size)\n",
    "        if i % 100 == 0:\n",
    "            print(\"epoch: {}\".format(i + 1))\n",
    "            train_acc = acc.eval(feed_dict = {x:batch[0], y_:batch[1], dropout_prob : 0.0})\n",
    "            print(\"train acc: {}\".format(train_acc))\n",
    "        \n",
    "        # here we corrupt the labels\n",
    "        print(batch[1][0])\n",
    "        sys.exit()\n",
    "        _, _, summary = sess.run([train_step, cross_ent, merged_summaries], \n",
    "                                 feed_dict = {x: batch[0], y_: batch[1], dropout_prob : 0.5})\n",
    "        summary_writer.add_summary(summary, i)\n",
    "        \n",
    "    # done training\n",
    "    test_acc = acc.eval(feed_dict = {x: mnist.test.images, y_: mnist.test.labels, dropout_prob : 0.0})\n",
    "    print(\"test acc {}\".format(test_acc))\n",
    "    print(\"run the command: tensorboard --logdir = /tmp/tf_logs/noisy and then go to localhost:6006\")\n",
    "    \n",
    "        \n",
    "        \n",
    "            "
   ]
  },
  {
   "cell_type": "code",
   "execution_count": null,
   "metadata": {
    "collapsed": true
   },
   "outputs": [],
   "source": []
  }
 ],
 "metadata": {
  "kernelspec": {
   "display_name": "Python 3",
   "language": "python",
   "name": "python3"
  },
  "language_info": {
   "codemirror_mode": {
    "name": "ipython",
    "version": 3
   },
   "file_extension": ".py",
   "mimetype": "text/x-python",
   "name": "python",
   "nbconvert_exporter": "python",
   "pygments_lexer": "ipython3",
   "version": "3.5.0"
  }
 },
 "nbformat": 4,
 "nbformat_minor": 2
}
