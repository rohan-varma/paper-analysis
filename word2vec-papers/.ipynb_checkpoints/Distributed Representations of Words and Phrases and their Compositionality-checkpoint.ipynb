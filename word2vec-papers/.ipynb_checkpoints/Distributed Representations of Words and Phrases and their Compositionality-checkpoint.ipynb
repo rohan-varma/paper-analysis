{
 "cells": [
  {
   "cell_type": "markdown",
   "metadata": {},
   "source": [
    "### Efficient Estimation of Word Representations in Vector Space\n",
    "\n",
    "Link to paper: https://arxiv.org/pdf/1301.3781.pdf\n",
    "\n",
    "### Introduction\n",
    "- Previously, most NLP was done with treating words as \"atomic units\", meaning that they are completely independent of each other and there was no notion of similarity in data. \n",
    "- However, this had its issues, most notably the limitation of not being able to capture word similarity or semantic meaning in texts. With corpora on the order of billions of words, these models don't scale well either. \n",
    "- This paper introduces a technique that learns word vectors where similar words are close to each other in vector space. The word vectors learned not only represent semantic meaning, but they can also be added and subtracted to obtain meaningful vectors. For example, the paper stated that $ vec(\"King\") - vec(\"Man\") + vec(\"Woman\") = vec(\"Queen\")$. \n",
    "\n",
    "### Model Architectures\n",
    "- The paper focused on neural network models that learned distributed representations of words rather than Latent Semantic Analysis methods, since these were shown in a previous work to work significantly better than LSA (as well as being more scalable to larger datasets). \n",
    "\n",
    "- All models were trained using stochastic gradient descent and backpropagation. The constant $ E * T $ contributed to the runtime of each model, where $E$ is the number of epochs and $T$ is the number of words in the training set. Each model is assigned an additional factor $Q$ which lets us compare the complexity of each model. \n",
    "\n",
    "### Model 1: Feedforward Neural Network\n",
    "- \n",
    "\n"
   ]
  },
  {
   "cell_type": "code",
   "execution_count": null,
   "metadata": {
    "collapsed": true
   },
   "outputs": [],
   "source": []
  }
 ],
 "metadata": {
  "kernelspec": {
   "display_name": "Python 3",
   "language": "python",
   "name": "python3"
  },
  "language_info": {
   "codemirror_mode": {
    "name": "ipython",
    "version": 3
   },
   "file_extension": ".py",
   "mimetype": "text/x-python",
   "name": "python",
   "nbconvert_exporter": "python",
   "pygments_lexer": "ipython3",
   "version": "3.5.0"
  }
 },
 "nbformat": 4,
 "nbformat_minor": 2
}
