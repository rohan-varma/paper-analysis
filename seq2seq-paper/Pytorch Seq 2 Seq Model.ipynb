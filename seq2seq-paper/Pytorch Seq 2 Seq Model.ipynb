{
 "cells": [
  {
   "cell_type": "code",
   "execution_count": 1,
   "metadata": {
    "collapsed": false,
    "deletable": true,
    "editable": true
   },
   "outputs": [
    {
     "data": {
      "text/plain": [
       "<torch._C.Generator at 0x104e42ef0>"
      ]
     },
     "execution_count": 1,
     "metadata": {},
     "output_type": "execute_result"
    }
   ],
   "source": [
    "import torch\n",
    "import torch.autograd as autograd\n",
    "import torch.nn as nn\n",
    "import torch.nn.functional as F\n",
    "import torch.optim as optim\n",
    "import numpy as np\n",
    "torch.manual_seed(1)\n"
   ]
  },
  {
   "cell_type": "code",
   "execution_count": null,
   "metadata": {
    "collapsed": false,
    "deletable": true,
    "editable": true
   },
   "outputs": [],
   "source": [
    "lstm = nn.LSTM(3, 3) # input dim = 3, output dim = 3\n",
    "inputs = [autograd.Variable(torch.randn(1, 3)) for _ in range(5)] # sequence of length 5\n",
    "hidden = (autograd.Variable(torch.randn(1, 1, 3)),\n",
    "          autograd.Variable(torch.randn((1, 1, 3))))"
   ]
  },
  {
   "cell_type": "code",
   "execution_count": null,
   "metadata": {
    "collapsed": false,
    "deletable": true,
    "editable": true
   },
   "outputs": [],
   "source": [
    "hidden[0]"
   ]
  },
  {
   "cell_type": "code",
   "execution_count": null,
   "metadata": {
    "collapsed": false,
    "deletable": true,
    "editable": true
   },
   "outputs": [],
   "source": [
    "hidden_states = []\n",
    "for i in inputs:\n",
    "    hidden_states.append(hidden)\n",
    "    j = i.view(1, 1, -1) # the second dim is the batch size\n",
    "    out, hidden = lstm(j, hidden)\n",
    "print(hidden_states)"
   ]
  },
  {
   "cell_type": "code",
   "execution_count": null,
   "metadata": {
    "collapsed": false,
    "deletable": true,
    "editable": true
   },
   "outputs": [],
   "source": [
    "# or, pass through the entire sequence all at once\n",
    "print(inputs)\n",
    "inputs = torch.cat(inputs)\n",
    "print(inputs)"
   ]
  },
  {
   "cell_type": "code",
   "execution_count": null,
   "metadata": {
    "collapsed": true,
    "deletable": true,
    "editable": true
   },
   "outputs": [],
   "source": [
    "hidden = (autograd.Variable(torch.randn(1, 1, 3)), autograd.Variable(\n",
    "    torch.randn((1, 1, 3))))  # clean out hidden state, shape is num_layers * minibatch_size * hidden_dim\n",
    "\n",
    "out, hidden = lstm(inputs, hidden) # out is all of the hidden states, hidden is the last hidden state"
   ]
  },
  {
   "cell_type": "code",
   "execution_count": null,
   "metadata": {
    "collapsed": false,
    "deletable": true,
    "editable": true
   },
   "outputs": [],
   "source": [
    "print(out)\n"
   ]
  },
  {
   "cell_type": "code",
   "execution_count": null,
   "metadata": {
    "collapsed": false,
    "deletable": true,
    "editable": true
   },
   "outputs": [],
   "source": [
    "print(hidden)"
   ]
  },
  {
   "cell_type": "code",
   "execution_count": 2,
   "metadata": {
    "collapsed": false,
    "deletable": true,
    "editable": true
   },
   "outputs": [
    {
     "name": "stdout",
     "output_type": "stream",
     "text": [
      "{'told', 'liked', 'The', 'read', 'that', 'me', 'Everybody', 'apple', 'She', 'the', 'teacher', 'she', 'ate', 'book', 'student', 'dog', 'scolded'}\n",
      "{'told': 0, 'The': 2, 'that': 4, 'liked': 1, 'Everybody': 6, 'me': 5, 'She': 8, 'apple': 7, 'the': 9, 'teacher': 10, 'she': 11, 'ate': 12, 'book': 13, 'student': 14, 'dog': 15, 'scolded': 16, 'read': 3}\n"
     ]
    }
   ],
   "source": [
    "def prepare_sequence(sequence, word_to_ix):\n",
    "    \"\"\"\n",
    "    Returns an autograd.Variable that represents a sequence. \n",
    "    @param sequence: list of words \n",
    "    @param word_to_ix: dict mapping words to indices\n",
    "    @return tensor - an autograd.Variable representing the sequence\n",
    "    \"\"\"\n",
    "    tensor = torch.LongTensor([word_to_ix[word] for word in sequence])\n",
    "    return autograd.Variable(tensor)\n",
    "\n",
    "training_data = [\n",
    "    (\"The dog ate the apple\".split(), [\"DET\", \"NN\", \"V\", \"DET\", \"NN\"]),\n",
    "    (\"Everybody read that book\".split(), [\"NN\", \"V\", \"DET\", \"NN\"]),\n",
    "    (\"The teacher scolded the student\".split(), [\"DET\", \"NN\", \"V\", \"DET\", \"NN\"]),\n",
    "    (\"She told me that she liked me\".split(), [\"NN\", \"V\", \"NN\", \"DET\", \"NN\", \"V\", \"NN\"])\n",
    "]\n",
    "\n",
    "test_data = [\n",
    "    (\"The teacher scolded the student\".split(), [\"DET\", \"NN\", \"V\", \"DET\", \"NN\"]),\n",
    "    (\"She told me that she liked me\".split(), [\"NN\", \"V\", \"NN\", \"DET\", \"NN\", \"V\", \"NN\"])\n",
    "]\n",
    "\n",
    "\n",
    "n = training_data + test_data\n",
    "vocab = [tup[0] for tup in n]\n",
    "vocab_set = set()\n",
    "for v in vocab:\n",
    "    for word in v:\n",
    "        vocab_set.add(word)\n",
    "vocab = vocab_set\n",
    "print(vocab)\n",
    "\n",
    "word_to_ix = {word: i for word, i in zip(vocab, (i for i in range(len(vocab))))}\n",
    "print(word_to_ix)\n",
    "tag_to_ix = {\"DET\": 0, \"NN\": 1, \"V\": 2}\n",
    "\n",
    "EMBEDDING_DIM = 100\n",
    "HIDDEN_DIM = 20\n",
    "HIDDEN_DIM_2 = 20\n"
   ]
  },
  {
   "cell_type": "code",
   "execution_count": 7,
   "metadata": {
    "collapsed": false,
    "deletable": true,
    "editable": true
   },
   "outputs": [],
   "source": [
    "class LSTMTagger(nn.Module):\n",
    "\n",
    "    def __init__(self, embedding_dim, hidden_dim, vocab_size, tagset_size, fixed_vector_size = 100, hidden_dim_2 = 20):\n",
    "        \"\"\"Initializes an LSTM for POS tagging.\n",
    "        @param embedding_dim - dimensionality of each word vector\n",
    "        @param hidden_dim - LSTM hidden unit size\n",
    "        @param vocab_size - number of words in the vocabulary\n",
    "        @param tagset_size - number of possible different tagsets\n",
    "        @param verbose: whether to log stuff or not\n",
    "        \"\"\"\n",
    "        super().__init__()\n",
    "        \n",
    "        # initialize dimensionality constants\n",
    "        self.hidden_dim = hidden_dim\n",
    "        self.word_embeddings = nn.Embedding(vocab_size, embedding_dim)\n",
    "        self.hidden_dim_2 = hidden_dim\n",
    "        \n",
    "        # The first LSTM takes word embedding as inputs, and outputs hidden states with hidden_dim dimensionality\n",
    "        self.lstm = nn.LSTM(embedding_dim, hidden_dim)\n",
    "        \n",
    "        # A linear layer maps the final hidden state of the first LSTM to a fixed-length vector\n",
    "        self.to_fixed_vector = nn.Linear(hidden_dim, fixed_vector_size)\n",
    "        \n",
    "        # another LSTM reads the fixed vector and outputs the sequence\n",
    "        self.lstm2 = nn.LSTM(fixed_vector_size, self.hidden_dim_2) # this second hidden dim can be different\n",
    "        \n",
    "        # the linear layer maps the 2nd LSTM's hidden state to tag space\n",
    "        self.linear_final = nn.Linear(self.hidden_dim_2, tagset_size)\n",
    "\n",
    "        # hidden layer initialization\n",
    "        self.hidden = self.init_hidden(self.hidden_dim)\n",
    "        self.hidden2 = self.init_hidden(self.hidden_dim_2)\n",
    "\n",
    "    def init_hidden(self, hidden_dim):\n",
    "        \"\"\"Initialize the hidden state in self.hidden\n",
    "        Dimensions are num_layers * minibatch_size * hidden_dim\n",
    "        \"\"\"\n",
    "        return (autograd.Variable(torch.zeros(1, 1, hidden_dim)),\n",
    "                autograd.Variable(torch.zeros(1, 1, hidden_dim)))\n",
    "\n",
    "    def forward(self, sentence):\n",
    "        # first, conver tthe sentence to a word embedding\n",
    "        embeds = self.word_embeddings(sentence)\n",
    "        embeds_view = embeds.view(len(sentence), 1, -1)\n",
    "        # forward the embeddings through the first lstm\n",
    "        lstm_out, self.hidden = self.lstm(\n",
    "            embeds_view, self.hidden)\n",
    "        # generate the fixed length vector\n",
    "        fixed_length_vector = self.to_fixed_vector(lstm_out.view(len(sentence), -1))\n",
    "        vector_view = fixed_length_vector.view(len(sentence), 1, -1)\n",
    "        # forward the fixed length vector through the second LSTM\n",
    "        lstm_out_2, self.hidden2 = self.lstm2(vector_view, self.hidden2)\n",
    "        # compute scores for each word in the sentence.\n",
    "        scores2 = F.softmax(self.linear_final(lstm_out_2.view(len(sentence), -1)))\n",
    "        return scores2\n",
    "\n",
    "def make_predictions(tag_scores, tag_to_ix):\n",
    "    max_score_idxs = np.argmax(tag_scores.data.numpy(), axis = 1)\n",
    "    ix_to_tag = {idx: tag for tag, idx in tag_to_ix.items()}\n",
    "    predictions = [ix_to_tag[score] for score in list(max_score_idxs)]\n",
    "    return predictions\n",
    "    "
   ]
  },
  {
   "cell_type": "code",
   "execution_count": null,
   "metadata": {
    "collapsed": false,
    "deletable": true,
    "editable": true
   },
   "outputs": [
    {
     "name": "stdout",
     "output_type": "stream",
     "text": [
      "number of parameters: 23383\n",
      "initial predictions: ['NN', 'NN', 'NN', 'NN', 'NN']\n",
      "training\n"
     ]
    },
    {
     "name": "stderr",
     "output_type": "stream",
     "text": [
      "/Library/Frameworks/Python.framework/Versions/3.5/lib/python3.5/site-packages/ipykernel/__main__.py:54: UserWarning: Implicit dimension choice for softmax has been deprecated. Change the call to include dim=X as an argument.\n"
     ]
    },
    {
     "name": "stdout",
     "output_type": "stream",
     "text": [
      "training\n",
      "training\n"
     ]
    }
   ],
   "source": [
    "model = LSTMTagger(EMBEDDING_DIM, HIDDEN_DIM, len(word_to_ix), len(tag_to_ix))\n",
    "loss_function = nn.NLLLoss()\n",
    "optimizer = optim.SGD(model.parameters(), lr=0.1)\n",
    "\n",
    "from functools import reduce\n",
    "size = sum([reduce(lambda x, y: x * y, param.shape) for param in model.parameters()])\n",
    "print('number of parameters: {}'.format(size))\n",
    "# See what the scores are before training\n",
    "# Note that element i,j of the output is the score for tag j for word i.\n",
    "inputs = prepare_sequence(training_data[0][0], word_to_ix)\n",
    "tag_scores = model(inputs)\n",
    "print('initial predictions: {}'.format(make_predictions(tag_scores, tag_to_ix)))\n",
    "\n",
    "def clear_grads_and_hidden_state(model):\n",
    "    model.zero_grad()\n",
    "    # note: assumes both of the LSTMs have same hidden dimensionality, TODO fix this\n",
    "    model.hidden = model.init_hidden(HIDDEN_DIM)\n",
    "    model.hidden2 = model.init_hidden(HIDDEN_DIM)\n",
    "    \n",
    "for epoch in range(500):\n",
    "    if epoch % 50 == 0:\n",
    "        print('training')\n",
    "    for sentence, tags in training_data:\n",
    "        \n",
    "        # remember to clear out the grads and re-initialize the hidden state\n",
    "        clear_grads_and_hidden_state(model)\n",
    "\n",
    "        # prepare inputs and labels\n",
    "        sentence_in = prepare_sequence(sentence, word_to_ix)\n",
    "        targets = prepare_sequence(tags, tag_to_ix)\n",
    "\n",
    "        # Step 3. Run our forward pass.\n",
    "        tag_scores = model(sentence_in)\n",
    "\n",
    "        # Step 4. Compute the loss, gradients, and update the parameters by\n",
    "        #  calling optimizer.step()\n",
    "        loss = loss_function(tag_scores, targets)\n",
    "        loss.backward(retain_graph=True)\n",
    "        optimizer.step()\n",
    "\n",
    "# See what the scores are after training\n",
    "\n",
    "for data in training_data:\n",
    "    sentence, labels = data\n",
    "    print('sentence: {}'.format(sentence))\n",
    "    inputs = prepare_sequence(sentence, word_to_ix)\n",
    "    scores = model(inputs)\n",
    "    print('predictions: {}'.format(make_predictions(scores, tag_to_ix)))\n",
    "    print('actual: {}'.format(labels))"
   ]
  },
  {
   "cell_type": "code",
   "execution_count": null,
   "metadata": {
    "collapsed": true,
    "deletable": true,
    "editable": true
   },
   "outputs": [],
   "source": []
  },
  {
   "cell_type": "code",
   "execution_count": null,
   "metadata": {
    "collapsed": true,
    "deletable": true,
    "editable": true
   },
   "outputs": [],
   "source": []
  }
 ],
 "metadata": {
  "kernelspec": {
   "display_name": "Python 3",
   "language": "python",
   "name": "python3"
  },
  "language_info": {
   "codemirror_mode": {
    "name": "ipython",
    "version": 3
   },
   "file_extension": ".py",
   "mimetype": "text/x-python",
   "name": "python",
   "nbconvert_exporter": "python",
   "pygments_lexer": "ipython3",
   "version": "3.5.0"
  }
 },
 "nbformat": 4,
 "nbformat_minor": 2
}
